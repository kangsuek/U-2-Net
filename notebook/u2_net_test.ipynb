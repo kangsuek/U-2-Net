{
  "nbformat": 4,
  "nbformat_minor": 0,
  "metadata": {
    "language_info": {
      "codemirror_mode": {
        "name": "ipython",
        "version": 3
      },
      "file_extension": ".py",
      "mimetype": "text/x-python",
      "name": "python",
      "nbconvert_exporter": "python",
      "pygments_lexer": "ipython3",
      "version": "3.8.5-final"
    },
    "orig_nbformat": 2,
    "kernelspec": {
      "name": "python_defaultSpec_1600658050028",
      "display_name": "Python 3.8.5 64-bit ('.venv': venv)"
    },
    "colab": {
      "name": "u2-net-test.ipynb",
      "provenance": [],
      "collapsed_sections": []
    },
    "accelerator": "GPU"
  },
  "cells": [
    {
      "cell_type": "code",
      "metadata": {
        "id": "_QaU_qsNxHYA",
        "colab_type": "code",
        "colab": {
          "base_uri": "https://localhost:8080/",
          "height": 119
        },
        "outputId": "c48214c7-e986-422f-fc6a-10460bbcf377"
      },
      "source": [
        "# clone git\n",
        "!git clone https://github.com/kangsuek/U-2-Net"
      ],
      "execution_count": 1,
      "outputs": [
        {
          "output_type": "stream",
          "text": [
            "Cloning into 'U-2-Net'...\n",
            "remote: Enumerating objects: 91, done.\u001b[K\n",
            "remote: Counting objects: 100% (91/91), done.\u001b[K\n",
            "remote: Compressing objects: 100% (83/83), done.\u001b[K\n",
            "remote: Total 91 (delta 5), reused 90 (delta 4), pack-reused 0\u001b[K\n",
            "Unpacking objects: 100% (91/91), done.\n"
          ],
          "name": "stdout"
        }
      ]
    },
    {
      "cell_type": "code",
      "metadata": {
        "tags": [],
        "id": "krRHlLHnxHYF",
        "colab_type": "code",
        "colab": {
          "base_uri": "https://localhost:8080/",
          "height": 85
        },
        "outputId": "07dbeef6-a6a7-4042-9c19-42c31c379a6b"
      },
      "source": [
        "# CUDA version 확인\n",
        "!/usr/local/cuda/bin/nvcc --version"
      ],
      "execution_count": 2,
      "outputs": [
        {
          "output_type": "stream",
          "text": [
            "nvcc: NVIDIA (R) Cuda compiler driver\n",
            "Copyright (c) 2005-2019 NVIDIA Corporation\n",
            "Built on Sun_Jul_28_19:07:16_PDT_2019\n",
            "Cuda compilation tools, release 10.1, V10.1.243\n"
          ],
          "name": "stdout"
        }
      ]
    },
    {
      "cell_type": "code",
      "metadata": {
        "id": "Q1YLUBBm6wRg",
        "colab_type": "code",
        "colab": {
          "base_uri": "https://localhost:8080/",
          "height": 357
        },
        "outputId": "73647bf3-6dab-4bc5-c2db-3360ba4b8c89"
      },
      "source": [
        "# GPU 정보 조회\n",
        "!nvidia-smi"
      ],
      "execution_count": 11,
      "outputs": [
        {
          "output_type": "stream",
          "text": [
            "Mon Sep 21 04:27:56 2020       \n",
            "+-----------------------------------------------------------------------------+\n",
            "| NVIDIA-SMI 450.66       Driver Version: 418.67       CUDA Version: 10.1     |\n",
            "|-------------------------------+----------------------+----------------------+\n",
            "| GPU  Name        Persistence-M| Bus-Id        Disp.A | Volatile Uncorr. ECC |\n",
            "| Fan  Temp  Perf  Pwr:Usage/Cap|         Memory-Usage | GPU-Util  Compute M. |\n",
            "|                               |                      |               MIG M. |\n",
            "|===============================+======================+======================|\n",
            "|   0  Tesla P100-PCIE...  Off  | 00000000:00:04.0 Off |                    0 |\n",
            "| N/A   38C    P0    26W / 250W |      0MiB / 16280MiB |      0%      Default |\n",
            "|                               |                      |                 ERR! |\n",
            "+-------------------------------+----------------------+----------------------+\n",
            "                                                                               \n",
            "+-----------------------------------------------------------------------------+\n",
            "| Processes:                                                                  |\n",
            "|  GPU   GI   CI        PID   Type   Process name                  GPU Memory |\n",
            "|        ID   ID                                                   Usage      |\n",
            "|=============================================================================|\n",
            "|  No running processes found                                                 |\n",
            "+-----------------------------------------------------------------------------+\n"
          ],
          "name": "stdout"
        }
      ]
    },
    {
      "cell_type": "code",
      "metadata": {
        "tags": [],
        "id": "w5KVUjqRxHYI",
        "colab_type": "code",
        "colab": {
          "base_uri": "https://localhost:8080/",
          "height": 51
        },
        "outputId": "6c1043b3-2dbb-43ae-d0d4-203529e33e5e"
      },
      "source": [
        "# google drive 연결\n",
        "%cd ..\n",
        "from google.colab import drive\n",
        "drive.mount('/content/gdrive')"
      ],
      "execution_count": 3,
      "outputs": [
        {
          "output_type": "stream",
          "text": [
            "/\n",
            "Mounted at /content/gdrive\n"
          ],
          "name": "stdout"
        }
      ]
    },
    {
      "cell_type": "code",
      "metadata": {
        "id": "l3I4UHakxHYL",
        "colab_type": "code",
        "colab": {
          "base_uri": "https://localhost:8080/",
          "height": 34
        },
        "outputId": "67fe1d79-abcf-45a1-aa94-8a80816592f0"
      },
      "source": [
        "# google drive와 symbolic link를 생성한다. /mydrive 가 google drive의 root dir임\n",
        "!ln -s /content/gdrive/My\\ Drive/ /mydrive\n",
        "!ls /mydrive\n",
        "\n",
        "# /mydrive/colab/u2-net/saved_models"
      ],
      "execution_count": 4,
      "outputs": [
        {
          "output_type": "stream",
          "text": [
            " colab\t'Colab Notebooks'   생활비.gsheet  'My Drive'   다함께Pyton\n"
          ],
          "name": "stdout"
        }
      ]
    },
    {
      "cell_type": "code",
      "metadata": {
        "id": "-RQaPTGgxHYO",
        "colab_type": "code",
        "colab": {}
      },
      "source": [
        "# GOOGLE DRIVE DOWNLOAD\n",
        "# pretrained model을 복사한다.\n",
        "!cp -r /mydrive/colab/U-2-Net/saved_models /content/U-2-Net/\n",
        "\n",
        "! ls /content/U-2-Net/saved_models"
      ],
      "execution_count": 5,
      "outputs": []
    },
    {
      "cell_type": "code",
      "metadata": {
        "id": "MZBNWe1b7j8-",
        "colab_type": "code",
        "colab": {}
      },
      "source": [
        "# test_data 디렉토리를 복사한다.\n",
        "!cp -r /mydrive/colab/U-2-Net/test_data /content/U-2-Net/\n",
        "\n",
        "!ls /content/U-2-Net/test_data"
      ],
      "execution_count": null,
      "outputs": []
    },
    {
      "cell_type": "code",
      "metadata": {
        "id": "8-jcLkqd9tJt",
        "colab_type": "code",
        "colab": {}
      },
      "source": [
        "# train_data 디렉토리를 복사한다.\n",
        "!cp -r /mydrive/colab/U-2-Net/train_data /content/U-2-Net/\n",
        "\n",
        "!ls /content/U-2-Net/train_data"
      ],
      "execution_count": null,
      "outputs": []
    },
    {
      "cell_type": "code",
      "metadata": {
        "id": "7kea9ESGyfp6",
        "colab_type": "code",
        "colab": {
          "base_uri": "https://localhost:8080/",
          "height": 649
        },
        "outputId": "1eed2c53-f690-4b6d-e86c-508e7f42dd55"
      },
      "source": [
        "!cd /content/U-2-Net\n",
        "\n",
        "!python /content/U-2-Net/u2net_test.py"
      ],
      "execution_count": 7,
      "outputs": [
        {
          "output_type": "stream",
          "text": [
            "=== 01. get image path and name ===\n",
            "image_dir:/content/U-2-Net/test_data/test_images\n",
            "prediction_dir:/content/U-2-Net/test_data/u2net_results/\n",
            "model_dir:/content/U-2-Net/saved_models/u2net/u2net.pth\n",
            "==============\n",
            "['/content/U-2-Net/test_data/test_images/0002-01.jpg', '/content/U-2-Net/test_data/test_images/sailboat3.jpg', '/content/U-2-Net/test_data/test_images/rifle2.jpeg', '/content/U-2-Net/test_data/test_images/0003.jpg', '/content/U-2-Net/test_data/test_images/rifle1.jpg', '/content/U-2-Net/test_data/test_images/im_14.png', '/content/U-2-Net/test_data/test_images/im_01.png', '/content/U-2-Net/test_data/test_images/horse.jpg', '/content/U-2-Net/test_data/test_images/im_21.png', '/content/U-2-Net/test_data/test_images/boat.jpg', '/content/U-2-Net/test_data/test_images/vangogh.jpeg', '/content/U-2-Net/test_data/test_images/long.jpg', '/content/U-2-Net/test_data/test_images/im_27.png', '/content/U-2-Net/test_data/test_images/girl.png', '/content/U-2-Net/test_data/test_images/bike.jpg', '/content/U-2-Net/test_data/test_images/whisk.png', '/content/U-2-Net/test_data/test_images/hockey.png', '/content/U-2-Net/test_data/test_images/lamp2_meitu_1.jpg']\n",
            "==============\n",
            "=== 02. dataloader ===\n",
            "=== 03. model define ===\n",
            "...load U2NET---173.6 MB\n",
            "=== 03-1. cuda is available check ===\n",
            "=== 04. inference for each image ===\n",
            "inferencing: 0002-01.jpg\n",
            "/usr/local/lib/python3.6/dist-packages/torch/nn/functional.py:2941: UserWarning: nn.functional.upsample is deprecated. Use nn.functional.interpolate instead.\n",
            "  warnings.warn(\"nn.functional.upsample is deprecated. Use nn.functional.interpolate instead.\")\n",
            "/usr/local/lib/python3.6/dist-packages/torch/nn/functional.py:3121: UserWarning: Default upsampling behavior when mode=bilinear is changed to align_corners=False since 0.4.0. Please specify align_corners=True if the old behavior is desired. See the documentation of nn.Upsample for details.\n",
            "  \"See the documentation of nn.Upsample for details.\".format(mode))\n",
            "/usr/local/lib/python3.6/dist-packages/torch/nn/functional.py:1625: UserWarning: nn.functional.sigmoid is deprecated. Use torch.sigmoid instead.\n",
            "  warnings.warn(\"nn.functional.sigmoid is deprecated. Use torch.sigmoid instead.\")\n",
            "inferencing: sailboat3.jpg\n",
            "inferencing: rifle2.jpeg\n",
            "inferencing: 0003.jpg\n",
            "inferencing: rifle1.jpg\n",
            "inferencing: im_14.png\n",
            "inferencing: im_01.png\n",
            "inferencing: horse.jpg\n",
            "inferencing: im_21.png\n",
            "inferencing: boat.jpg\n",
            "inferencing: vangogh.jpeg\n",
            "inferencing: long.jpg\n",
            "inferencing: im_27.png\n",
            "inferencing: girl.png\n",
            "inferencing: bike.jpg\n",
            "inferencing: whisk.png\n",
            "inferencing: hockey.png\n",
            "inferencing: lamp2_meitu_1.jpg\n"
          ],
          "name": "stdout"
        }
      ]
    },
    {
      "cell_type": "code",
      "metadata": {
        "id": "6RQ4rFu--RZn",
        "colab_type": "code",
        "colab": {}
      },
      "source": [
        "# 백그라운드 이미지 지우기 결과 확인\n",
        "!ls /content/U-2-Net/test_data/u2net_results"
      ],
      "execution_count": null,
      "outputs": []
    },
    {
      "cell_type": "code",
      "metadata": {
        "id": "0ivUWskn5GWT",
        "colab_type": "code",
        "colab": {}
      },
      "source": [
        "# 테스트 데이터 삭제\n",
        "!rm -rf /content/U-2-Net/test_data/u2net_results/*.*\n",
        "\n",
        "!ls /content/U-2-Net/test_data/u2net_results"
      ],
      "execution_count": 10,
      "outputs": []
    }
  ]
}