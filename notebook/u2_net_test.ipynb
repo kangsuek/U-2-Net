{
  "nbformat": 4,
  "nbformat_minor": 0,
  "metadata": {
    "language_info": {
      "codemirror_mode": {
        "name": "ipython",
        "version": 3
      },
      "file_extension": ".py",
      "mimetype": "text/x-python",
      "name": "python",
      "nbconvert_exporter": "python",
      "pygments_lexer": "ipython3",
      "version": "3.8.5-final"
    },
    "orig_nbformat": 2,
    "kernelspec": {
      "name": "python_defaultSpec_1600658050028",
      "display_name": "Python 3.8.5 64-bit ('.venv': venv)"
    },
    "colab": {
      "name": "u2-net-test.ipynb",
      "provenance": [],
      "collapsed_sections": []
    }
  },
  "cells": [
    {
      "cell_type": "code",
      "metadata": {
        "id": "_QaU_qsNxHYA",
        "colab_type": "code",
        "colab": {
          "base_uri": "https://localhost:8080/",
          "height": 119
        },
        "outputId": "b22db8f6-2273-4fbb-c35c-491779ba553b"
      },
      "source": [
        "# clone git\n",
        "!git clone https://github.com/kangsuek/U-2-Net"
      ],
      "execution_count": 1,
      "outputs": [
        {
          "output_type": "stream",
          "text": [
            "Cloning into 'U-2-Net'...\n",
            "remote: Enumerating objects: 85, done.\u001b[K\n",
            "remote: Counting objects: 100% (85/85), done.\u001b[K\n",
            "remote: Compressing objects: 100% (81/81), done.\u001b[K\n",
            "remote: Total 85 (delta 1), reused 85 (delta 1), pack-reused 0\u001b[K\n",
            "Unpacking objects: 100% (85/85), done.\n"
          ],
          "name": "stdout"
        }
      ]
    },
    {
      "cell_type": "code",
      "metadata": {
        "tags": [],
        "id": "krRHlLHnxHYF",
        "colab_type": "code",
        "colab": {
          "base_uri": "https://localhost:8080/",
          "height": 85
        },
        "outputId": "8b33a618-8e2f-42c4-bab5-a096267cc4fe"
      },
      "source": [
        "# CUDA version 확인\n",
        "!/usr/local/cuda/bin/nvcc --version"
      ],
      "execution_count": 3,
      "outputs": [
        {
          "output_type": "stream",
          "text": [
            "nvcc: NVIDIA (R) Cuda compiler driver\n",
            "Copyright (c) 2005-2019 NVIDIA Corporation\n",
            "Built on Sun_Jul_28_19:07:16_PDT_2019\n",
            "Cuda compilation tools, release 10.1, V10.1.243\n"
          ],
          "name": "stdout"
        }
      ]
    },
    {
      "cell_type": "code",
      "metadata": {
        "tags": [],
        "id": "w5KVUjqRxHYI",
        "colab_type": "code",
        "colab": {
          "base_uri": "https://localhost:8080/",
          "height": 51
        },
        "outputId": "9236d8ee-097e-4aa6-cfb1-01c93179c33a"
      },
      "source": [
        "# google drive 연결\n",
        "%cd ..\n",
        "from google.colab import drive\n",
        "drive.mount('/content/gdrive')"
      ],
      "execution_count": 4,
      "outputs": [
        {
          "output_type": "stream",
          "text": [
            "/\n",
            "Mounted at /content/gdrive\n"
          ],
          "name": "stdout"
        }
      ]
    },
    {
      "cell_type": "code",
      "metadata": {
        "id": "l3I4UHakxHYL",
        "colab_type": "code",
        "colab": {
          "base_uri": "https://localhost:8080/",
          "height": 34
        },
        "outputId": "d4ea2463-dc73-40f3-c2da-cf1fcec65b90"
      },
      "source": [
        "# google drive와 symbolic link를 생성한다. /mydrive 가 google drive의 root dir임\n",
        "!ln -s /content/gdrive/My\\ Drive/ /mydrive\n",
        "!ls /mydrive\n",
        "\n",
        "# /mydrive/colab/u2-net/saved_models"
      ],
      "execution_count": 5,
      "outputs": [
        {
          "output_type": "stream",
          "text": [
            " colab\t'Colab Notebooks'   생활비.gsheet  'My Drive'   다함께Pyton\n"
          ],
          "name": "stdout"
        }
      ]
    },
    {
      "cell_type": "code",
      "metadata": {
        "id": "-RQaPTGgxHYO",
        "colab_type": "code",
        "colab": {}
      },
      "source": [
        "# GOOGLE DRIVE DOWNLOAD\n",
        "# test data 디렉토리를 복사한다.\n",
        "!cp -r /mydrive/colab/U-2-Net/saved_models /content/U-2-Net/"
      ],
      "execution_count": 11,
      "outputs": []
    },
    {
      "cell_type": "code",
      "metadata": {
        "id": "7kea9ESGyfp6",
        "colab_type": "code",
        "colab": {
          "base_uri": "https://localhost:8080/",
          "height": 255
        },
        "outputId": "bd973ab3-bbdb-4d51-ca85-ace790042ac8"
      },
      "source": [
        "!cd /content/U-2-Net\n",
        "\n",
        "!python /content/U-2-Net/u2net_test.py"
      ],
      "execution_count": 23,
      "outputs": [
        {
          "output_type": "stream",
          "text": [
            "[]\n",
            "...load U2NET---173.6 MB\n",
            "Traceback (most recent call last):\n",
            "  File \"/content/U-2-Net/u2net_test.py\", line 125, in <module>\n",
            "    main()\n",
            "  File \"/content/U-2-Net/u2net_test.py\", line 91, in main\n",
            "    net.load_state_dict(torch.load(model_dir))\n",
            "  File \"/usr/local/lib/python3.6/dist-packages/torch/serialization.py\", line 571, in load\n",
            "    with _open_file_like(f, 'rb') as opened_file:\n",
            "  File \"/usr/local/lib/python3.6/dist-packages/torch/serialization.py\", line 229, in _open_file_like\n",
            "    return _open_file(name_or_buffer, mode)\n",
            "  File \"/usr/local/lib/python3.6/dist-packages/torch/serialization.py\", line 210, in __init__\n",
            "    super(_open_file, self).__init__(open(name, mode))\n",
            "FileNotFoundError: [Errno 2] No such file or directory: '/saved_models/u2net/u2net.pth'\n"
          ],
          "name": "stdout"
        }
      ]
    }
  ]
}